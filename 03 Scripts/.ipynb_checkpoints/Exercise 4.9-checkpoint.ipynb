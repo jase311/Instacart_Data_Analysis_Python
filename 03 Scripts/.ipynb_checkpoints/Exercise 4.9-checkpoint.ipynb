{
 "cells": [
  {
   "cell_type": "markdown",
   "id": "c461f9bf",
   "metadata": {},
   "source": [
    "# Exercise 4.9"
   ]
  },
  {
   "cell_type": "markdown",
   "id": "60c0bba6",
   "metadata": {},
   "source": [
    "### Import libraries"
   ]
  },
  {
   "cell_type": "code",
   "execution_count": 1,
   "id": "0b563478",
   "metadata": {},
   "outputs": [],
   "source": [
    "import pandas as pd\n",
    "import numpy as np\n",
    "import os\n",
    "import matplotlib.pyplot as plt\n",
    "import seaborn as sns\n",
    "import scipy"
   ]
  },
  {
   "cell_type": "markdown",
   "id": "f482d4b6",
   "metadata": {},
   "source": [
    "### Load files"
   ]
  },
  {
   "cell_type": "code",
   "execution_count": 2,
   "id": "153822ae",
   "metadata": {},
   "outputs": [
    {
     "data": {
      "text/html": [
       "<div><div id=2e69efbb-2285-4a11-862d-b9fd16c33558 style=\"display:none; background-color:#9D6CFF; color:white; width:200px; height:30px; padding-left:5px; border-radius:4px; flex-direction:row; justify-content:space-around; align-items:center;\" onmouseover=\"this.style.backgroundColor='#BA9BF8'\" onmouseout=\"this.style.backgroundColor='#9D6CFF'\" onclick=\"window.commands?.execute('create-mitosheet-from-dataframe-output');\">See Full Dataframe in Mito</div> <script> if (window.commands?.hasCommand('create-mitosheet-from-dataframe-output')) document.getElementById('2e69efbb-2285-4a11-862d-b9fd16c33558').style.display = 'flex' </script> <table border=\"1\" class=\"dataframe\">\n",
       "  <thead>\n",
       "    <tr style=\"text-align: right;\">\n",
       "      <th></th>\n",
       "      <th>order_id</th>\n",
       "      <th>user_id</th>\n",
       "      <th>order_number</th>\n",
       "      <th>orders_day_of_week</th>\n",
       "      <th>order_hour_of_day</th>\n",
       "      <th>days_since_prior_order</th>\n",
       "      <th>product_id</th>\n",
       "      <th>add_to_cart_order</th>\n",
       "      <th>reordered</th>\n",
       "      <th>product_name</th>\n",
       "      <th>...</th>\n",
       "      <th>_merge</th>\n",
       "      <th>price_range_loc</th>\n",
       "      <th>busiest_day</th>\n",
       "      <th>busiest_period_of_day</th>\n",
       "      <th>max_order</th>\n",
       "      <th>loyalty_flag</th>\n",
       "      <th>price_avg</th>\n",
       "      <th>spend_category</th>\n",
       "      <th>days_since_last_order_mdn</th>\n",
       "      <th>customer_regularity</th>\n",
       "    </tr>\n",
       "  </thead>\n",
       "  <tbody>\n",
       "    <tr>\n",
       "      <th>0</th>\n",
       "      <td>2539329</td>\n",
       "      <td>1</td>\n",
       "      <td>1</td>\n",
       "      <td>2</td>\n",
       "      <td>8</td>\n",
       "      <td>0.0</td>\n",
       "      <td>196</td>\n",
       "      <td>1</td>\n",
       "      <td>0</td>\n",
       "      <td>Soda</td>\n",
       "      <td>...</td>\n",
       "      <td>both</td>\n",
       "      <td>Mid-range product</td>\n",
       "      <td>Regularly busy day</td>\n",
       "      <td>Average orders</td>\n",
       "      <td>10</td>\n",
       "      <td>New customer</td>\n",
       "      <td>6.367797</td>\n",
       "      <td>Low spender</td>\n",
       "      <td>20.0</td>\n",
       "      <td>Regular customer</td>\n",
       "    </tr>\n",
       "    <tr>\n",
       "      <th>1</th>\n",
       "      <td>2398795</td>\n",
       "      <td>1</td>\n",
       "      <td>2</td>\n",
       "      <td>3</td>\n",
       "      <td>7</td>\n",
       "      <td>15.0</td>\n",
       "      <td>196</td>\n",
       "      <td>1</td>\n",
       "      <td>1</td>\n",
       "      <td>Soda</td>\n",
       "      <td>...</td>\n",
       "      <td>both</td>\n",
       "      <td>Mid-range product</td>\n",
       "      <td>Regularly busy day</td>\n",
       "      <td>Average orders</td>\n",
       "      <td>10</td>\n",
       "      <td>New customer</td>\n",
       "      <td>6.367797</td>\n",
       "      <td>Low spender</td>\n",
       "      <td>20.0</td>\n",
       "      <td>Regular customer</td>\n",
       "    </tr>\n",
       "    <tr>\n",
       "      <th>2</th>\n",
       "      <td>473747</td>\n",
       "      <td>1</td>\n",
       "      <td>3</td>\n",
       "      <td>3</td>\n",
       "      <td>12</td>\n",
       "      <td>21.0</td>\n",
       "      <td>196</td>\n",
       "      <td>1</td>\n",
       "      <td>1</td>\n",
       "      <td>Soda</td>\n",
       "      <td>...</td>\n",
       "      <td>both</td>\n",
       "      <td>Mid-range product</td>\n",
       "      <td>Regularly busy day</td>\n",
       "      <td>Most orders</td>\n",
       "      <td>10</td>\n",
       "      <td>New customer</td>\n",
       "      <td>6.367797</td>\n",
       "      <td>Low spender</td>\n",
       "      <td>20.0</td>\n",
       "      <td>Regular customer</td>\n",
       "    </tr>\n",
       "    <tr>\n",
       "      <th>3</th>\n",
       "      <td>2254736</td>\n",
       "      <td>1</td>\n",
       "      <td>4</td>\n",
       "      <td>4</td>\n",
       "      <td>7</td>\n",
       "      <td>29.0</td>\n",
       "      <td>196</td>\n",
       "      <td>1</td>\n",
       "      <td>1</td>\n",
       "      <td>Soda</td>\n",
       "      <td>...</td>\n",
       "      <td>both</td>\n",
       "      <td>Mid-range product</td>\n",
       "      <td>Least busy day</td>\n",
       "      <td>Average orders</td>\n",
       "      <td>10</td>\n",
       "      <td>New customer</td>\n",
       "      <td>6.367797</td>\n",
       "      <td>Low spender</td>\n",
       "      <td>20.0</td>\n",
       "      <td>Regular customer</td>\n",
       "    </tr>\n",
       "    <tr>\n",
       "      <th>4</th>\n",
       "      <td>431534</td>\n",
       "      <td>1</td>\n",
       "      <td>5</td>\n",
       "      <td>4</td>\n",
       "      <td>15</td>\n",
       "      <td>28.0</td>\n",
       "      <td>196</td>\n",
       "      <td>1</td>\n",
       "      <td>1</td>\n",
       "      <td>Soda</td>\n",
       "      <td>...</td>\n",
       "      <td>both</td>\n",
       "      <td>Mid-range product</td>\n",
       "      <td>Least busy day</td>\n",
       "      <td>Most orders</td>\n",
       "      <td>10</td>\n",
       "      <td>New customer</td>\n",
       "      <td>6.367797</td>\n",
       "      <td>Low spender</td>\n",
       "      <td>20.0</td>\n",
       "      <td>Regular customer</td>\n",
       "    </tr>\n",
       "  </tbody>\n",
       "</table></div>"
      ],
      "text/plain": [
       "   order_id  user_id  order_number  orders_day_of_week  order_hour_of_day  \\\n",
       "0   2539329        1             1                   2                  8   \n",
       "1   2398795        1             2                   3                  7   \n",
       "2    473747        1             3                   3                 12   \n",
       "3   2254736        1             4                   4                  7   \n",
       "4    431534        1             5                   4                 15   \n",
       "\n",
       "   days_since_prior_order  product_id  add_to_cart_order  reordered  \\\n",
       "0                     0.0         196                  1          0   \n",
       "1                    15.0         196                  1          1   \n",
       "2                    21.0         196                  1          1   \n",
       "3                    29.0         196                  1          1   \n",
       "4                    28.0         196                  1          1   \n",
       "\n",
       "  product_name  ...  _merge    price_range_loc         busiest_day  \\\n",
       "0         Soda  ...    both  Mid-range product  Regularly busy day   \n",
       "1         Soda  ...    both  Mid-range product  Regularly busy day   \n",
       "2         Soda  ...    both  Mid-range product  Regularly busy day   \n",
       "3         Soda  ...    both  Mid-range product      Least busy day   \n",
       "4         Soda  ...    both  Mid-range product      Least busy day   \n",
       "\n",
       "  busiest_period_of_day max_order  loyalty_flag price_avg  spend_category  \\\n",
       "0        Average orders        10  New customer  6.367797     Low spender   \n",
       "1        Average orders        10  New customer  6.367797     Low spender   \n",
       "2           Most orders        10  New customer  6.367797     Low spender   \n",
       "3        Average orders        10  New customer  6.367797     Low spender   \n",
       "4           Most orders        10  New customer  6.367797     Low spender   \n",
       "\n",
       "  days_since_last_order_mdn  customer_regularity  \n",
       "0                      20.0     Regular customer  \n",
       "1                      20.0     Regular customer  \n",
       "2                      20.0     Regular customer  \n",
       "3                      20.0     Regular customer  \n",
       "4                      20.0     Regular customer  \n",
       "\n",
       "[5 rows x 23 columns]"
      ]
     },
     "execution_count": 2,
     "metadata": {},
     "output_type": "execute_result"
    }
   ],
   "source": [
    "path = r'C:\\Users\\Jaime Andres Suarez\\Instacart Basket Analysis'\n",
    "df=pd.read_pickle(os.path.join(path,'02 Data', 'Transformed Data', 'orders_products_combined_2.pkl'))\n",
    "df.head()"
   ]
  },
  {
   "cell_type": "markdown",
   "id": "6cbb4fb3",
   "metadata": {},
   "source": [
    "## Bar charts"
   ]
  },
  {
   "cell_type": "markdown",
   "id": "f677f626",
   "metadata": {},
   "source": [
    "### Frequency"
   ]
  },
  {
   "cell_type": "code",
   "execution_count": 3,
   "id": "4d957a87",
   "metadata": {},
   "outputs": [
    {
     "data": {
      "text/plain": [
       "<AxesSubplot:>"
      ]
     },
     "execution_count": 3,
     "metadata": {},
     "output_type": "execute_result"
    },
    {
     "data": {
      "image/png": "[encoded data removed]",
      "text/plain": [
       "<Figure size 432x288 with 1 Axes>"
      ]
     },
     "metadata": {
      "needs_background": "light"
     },
     "output_type": "display_data"
    }
   ],
   "source": [
    "df['orders_day_of_week'].value_counts().plot.bar()"
   ]
  },
  {
   "cell_type": "markdown",
   "id": "1bffb353",
   "metadata": {},
   "source": [
    "### Sort the output"
   ]
  },
  {
   "cell_type": "code",
   "execution_count": 4,
   "id": "4a980029",
   "metadata": {},
   "outputs": [
    {
     "data": {
      "text/plain": [
       "<AxesSubplot:>"
      ]
     },
     "execution_count": 4,
     "metadata": {},
     "output_type": "execute_result"
    },
    {
     "data": {
      "image/png": "[encoded data removed]",
      "text/plain": [
       "<Figure size 432x288 with 1 Axes>"
      ]
     },
     "metadata": {
      "needs_background": "light"
     },
     "output_type": "display_data"
    }
   ],
   "source": [
    "df['orders_day_of_week'].value_counts().sort_index().plot.bar()"
   ]
  },
  {
   "cell_type": "code",
   "execution_count": 5,
   "id": "d99ad83e",
   "metadata": {},
   "outputs": [
    {
     "data": {
      "text/plain": [
       "0    6204182\n",
       "1    5660230\n",
       "2    4213830\n",
       "3    3840534\n",
       "4    3783802\n",
       "5    4205791\n",
       "6    4496490\n",
       "Name: orders_day_of_week, dtype: int64"
      ]
     },
     "execution_count": 5,
     "metadata": {},
     "output_type": "execute_result"
    }
   ],
   "source": [
    "df['orders_day_of_week'].value_counts().sort_index()"
   ]
  },
  {
   "cell_type": "markdown",
   "id": "d683f432",
   "metadata": {},
   "source": [
    "### Add some color"
   ]
  },
  {
   "cell_type": "code",
   "execution_count": 6,
   "id": "494f693f",
   "metadata": {},
   "outputs": [
    {
     "data": {
      "text/plain": [
       "<AxesSubplot:>"
      ]
     },
     "execution_count": 6,
     "metadata": {},
     "output_type": "execute_result"
    },
    {
     "data": {
      "image/png": "[encoded data removed]",
      "text/plain": [
       "<Figure size 432x288 with 1 Axes>"
      ]
     },
     "metadata": {
      "needs_background": "light"
     },
     "output_type": "display_data"
    }
   ],
   "source": [
    "df['orders_day_of_week'].value_counts().sort_index().plot.bar(color=['purple','red','pink','orange','yellow','green','blue'])"
   ]
  },
  {
   "cell_type": "markdown",
   "id": "d748ca8b",
   "metadata": {},
   "source": [
    "## Exporting Charts"
   ]
  },
  {
   "cell_type": "code",
   "execution_count": 7,
   "id": "44906530",
   "metadata": {},
   "outputs": [
    {
     "data": {
      "image/png": "[encoded data removed]",
      "text/plain": [
       "<Figure size 432x288 with 1 Axes>"
      ]
     },
     "metadata": {
      "needs_background": "light"
     },
     "output_type": "display_data"
    }
   ],
   "source": [
    "bar=df['orders_day_of_week'].value_counts().sort_index().plot.bar(color=['purple','red','pink','orange','yellow','green','blue'])"
   ]
  },
  {
   "cell_type": "code",
   "execution_count": 8,
   "id": "653c19ff",
   "metadata": {},
   "outputs": [],
   "source": [
    "bar.figure.savefig(os.path.join(path, '04 Analysis','Visualizations', 'bar_orders_dow.png'))"
   ]
  },
  {
   "cell_type": "markdown",
   "id": "b7c03bb6",
   "metadata": {},
   "source": [
    "## Creating Histograms and Scatterplots"
   ]
  },
  {
   "cell_type": "code",
   "execution_count": 9,
   "id": "d66665ee",
   "metadata": {},
   "outputs": [
    {
     "data": {
      "text/plain": [
       "<AxesSubplot:ylabel='Frequency'>"
      ]
     },
     "execution_count": 9,
     "metadata": {},
     "output_type": "execute_result"
    },
    {
     "data": {
      "image/png": "[encoded data removed]",
      "text/plain": [
       "<Figure size 432x288 with 1 Axes>"
      ]
     },
     "metadata": {
      "needs_background": "light"
     },
     "output_type": "display_data"
    }
   ],
   "source": [
    "df['prices'].plot.hist(bins=25)"
   ]
  },
  {
   "cell_type": "code",
   "execution_count": 10,
   "id": "248f702a",
   "metadata": {},
   "outputs": [
    {
     "data": {
      "text/plain": [
       "count    3.240486e+07\n",
       "mean     1.198023e+01\n",
       "std      4.956554e+02\n",
       "min      1.000000e+00\n",
       "25%      4.200000e+00\n",
       "50%      7.400000e+00\n",
       "75%      1.130000e+01\n",
       "max      9.999900e+04\n",
       "Name: prices, dtype: float64"
      ]
     },
     "execution_count": 10,
     "metadata": {},
     "output_type": "execute_result"
    }
   ],
   "source": [
    "df['prices'].describe()"
   ]
  },
  {
   "cell_type": "code",
   "execution_count": 11,
   "id": "55959161",
   "metadata": {},
   "outputs": [
    {
     "data": {
      "text/plain": [
       "11.980225638467232"
      ]
     },
     "execution_count": 11,
     "metadata": {},
     "output_type": "execute_result"
    }
   ],
   "source": [
    "df['prices'].mean()"
   ]
  },
  {
   "cell_type": "code",
   "execution_count": 12,
   "id": "993db540",
   "metadata": {},
   "outputs": [
    {
     "data": {
      "text/plain": [
       "7.4"
      ]
     },
     "execution_count": 12,
     "metadata": {},
     "output_type": "execute_result"
    }
   ],
   "source": [
    "df['prices'].median()"
   ]
  },
  {
   "cell_type": "code",
   "execution_count": 13,
   "id": "f4418c9a",
   "metadata": {},
   "outputs": [
    {
     "data": {
      "text/plain": [
       "99999.0"
      ]
     },
     "execution_count": 13,
     "metadata": {},
     "output_type": "execute_result"
    }
   ],
   "source": [
    "df['prices'].max()"
   ]
  },
  {
   "cell_type": "code",
   "execution_count": 14,
   "id": "aaff6180",
   "metadata": {},
   "outputs": [
    {
     "data": {
      "text/plain": [
       "1.0"
      ]
     },
     "execution_count": 14,
     "metadata": {},
     "output_type": "execute_result"
    }
   ],
   "source": [
    "df['prices'].min()"
   ]
  },
  {
   "cell_type": "markdown",
   "id": "b7c19c16",
   "metadata": {},
   "source": [
    "## Scatterplots"
   ]
  },
  {
   "cell_type": "code",
   "execution_count": 15,
   "id": "f869d62a",
   "metadata": {},
   "outputs": [
    {
     "name": "stderr",
     "output_type": "stream",
     "text": [
      "NumExpr defaulting to 4 threads.\n"
     ]
    },
    {
     "data": {
      "text/plain": [
       "<AxesSubplot:xlabel='prices', ylabel='prices'>"
      ]
     },
     "execution_count": 15,
     "metadata": {},
     "output_type": "execute_result"
    },
    {
     "data": {
      "image/png": "[encoded data removed]",
      "text/plain": [
       "<Figure size 432x288 with 1 Axes>"
      ]
     },
     "metadata": {
      "needs_background": "light"
     },
     "output_type": "display_data"
    }
   ],
   "source": [
    "sns.scatterplot(x='prices',y='prices',data=df)"
   ]
  },
  {
   "cell_type": "markdown",
   "id": "4f9e7b5f",
   "metadata": {},
   "source": [
    "### Locate the products with a price higher than 100"
   ]
  },
  {
   "cell_type": "code",
   "execution_count": 16,
   "id": "6f263097",
   "metadata": {},
   "outputs": [
    {
     "data": {
      "text/html": [
       "<div><div id=bead4629-91a8-4df4-af78-34fa5e221fa3 style=\"display:none; background-color:#9D6CFF; color:white; width:200px; height:30px; padding-left:5px; border-radius:4px; flex-direction:row; justify-content:space-around; align-items:center;\" onmouseover=\"this.style.backgroundColor='#BA9BF8'\" onmouseout=\"this.style.backgroundColor='#9D6CFF'\" onclick=\"window.commands?.execute('create-mitosheet-from-dataframe-output');\">See Full Dataframe in Mito</div> <script> if (window.commands?.hasCommand('create-mitosheet-from-dataframe-output')) document.getElementById('bead4629-91a8-4df4-af78-34fa5e221fa3').style.display = 'flex' </script> <table border=\"1\" class=\"dataframe\">\n",
       "  <thead>\n",
       "    <tr style=\"text-align: right;\">\n",
       "      <th></th>\n",
       "      <th>order_id</th>\n",
       "      <th>user_id</th>\n",
       "      <th>order_number</th>\n",
       "      <th>orders_day_of_week</th>\n",
       "      <th>order_hour_of_day</th>\n",
       "      <th>days_since_prior_order</th>\n",
       "      <th>product_id</th>\n",
       "      <th>add_to_cart_order</th>\n",
       "      <th>reordered</th>\n",
       "      <th>product_name</th>\n",
       "      <th>...</th>\n",
       "      <th>_merge</th>\n",
       "      <th>price_range_loc</th>\n",
       "      <th>busiest_day</th>\n",
       "      <th>busiest_period_of_day</th>\n",
       "      <th>max_order</th>\n",
       "      <th>loyalty_flag</th>\n",
       "      <th>price_avg</th>\n",
       "      <th>spend_category</th>\n",
       "      <th>days_since_last_order_mdn</th>\n",
       "      <th>customer_regularity</th>\n",
       "    </tr>\n",
       "  </thead>\n",
       "  <tbody>\n",
       "    <tr>\n",
       "      <th>10030345</th>\n",
       "      <td>912404</td>\n",
       "      <td>17</td>\n",
       "      <td>12</td>\n",
       "      <td>2</td>\n",
       "      <td>14</td>\n",
       "      <td>5.0</td>\n",
       "      <td>21553</td>\n",
       "      <td>5</td>\n",
       "      <td>0</td>\n",
       "      <td>Lowfat 2% Milkfat Cottage Cheese</td>\n",
       "      <td>...</td>\n",
       "      <td>both</td>\n",
       "      <td>High range</td>\n",
       "      <td>Regularly busy day</td>\n",
       "      <td>Most orders</td>\n",
       "      <td>40</td>\n",
       "      <td>Regular customer</td>\n",
       "      <td>108.648299</td>\n",
       "      <td>High spender</td>\n",
       "      <td>5.0</td>\n",
       "      <td>Frequent customer</td>\n",
       "    </tr>\n",
       "    <tr>\n",
       "      <th>10030346</th>\n",
       "      <td>603376</td>\n",
       "      <td>17</td>\n",
       "      <td>22</td>\n",
       "      <td>6</td>\n",
       "      <td>16</td>\n",
       "      <td>4.0</td>\n",
       "      <td>21553</td>\n",
       "      <td>3</td>\n",
       "      <td>1</td>\n",
       "      <td>Lowfat 2% Milkfat Cottage Cheese</td>\n",
       "      <td>...</td>\n",
       "      <td>both</td>\n",
       "      <td>High range</td>\n",
       "      <td>Regularly busy day</td>\n",
       "      <td>Average orders</td>\n",
       "      <td>40</td>\n",
       "      <td>Regular customer</td>\n",
       "      <td>108.648299</td>\n",
       "      <td>High spender</td>\n",
       "      <td>5.0</td>\n",
       "      <td>Frequent customer</td>\n",
       "    </tr>\n",
       "    <tr>\n",
       "      <th>10030347</th>\n",
       "      <td>3264360</td>\n",
       "      <td>135</td>\n",
       "      <td>2</td>\n",
       "      <td>2</td>\n",
       "      <td>21</td>\n",
       "      <td>13.0</td>\n",
       "      <td>21553</td>\n",
       "      <td>6</td>\n",
       "      <td>0</td>\n",
       "      <td>Lowfat 2% Milkfat Cottage Cheese</td>\n",
       "      <td>...</td>\n",
       "      <td>both</td>\n",
       "      <td>High range</td>\n",
       "      <td>Regularly busy day</td>\n",
       "      <td>Average orders</td>\n",
       "      <td>4</td>\n",
       "      <td>New customer</td>\n",
       "      <td>1154.792308</td>\n",
       "      <td>High spender</td>\n",
       "      <td>11.5</td>\n",
       "      <td>Regular customer</td>\n",
       "    </tr>\n",
       "    <tr>\n",
       "      <th>10030348</th>\n",
       "      <td>892534</td>\n",
       "      <td>135</td>\n",
       "      <td>3</td>\n",
       "      <td>0</td>\n",
       "      <td>8</td>\n",
       "      <td>12.0</td>\n",
       "      <td>21553</td>\n",
       "      <td>3</td>\n",
       "      <td>1</td>\n",
       "      <td>Lowfat 2% Milkfat Cottage Cheese</td>\n",
       "      <td>...</td>\n",
       "      <td>both</td>\n",
       "      <td>High range</td>\n",
       "      <td>Busiest days</td>\n",
       "      <td>Average orders</td>\n",
       "      <td>4</td>\n",
       "      <td>New customer</td>\n",
       "      <td>1154.792308</td>\n",
       "      <td>High spender</td>\n",
       "      <td>11.5</td>\n",
       "      <td>Regular customer</td>\n",
       "    </tr>\n",
       "    <tr>\n",
       "      <th>10030349</th>\n",
       "      <td>229704</td>\n",
       "      <td>342</td>\n",
       "      <td>8</td>\n",
       "      <td>1</td>\n",
       "      <td>19</td>\n",
       "      <td>30.0</td>\n",
       "      <td>21553</td>\n",
       "      <td>9</td>\n",
       "      <td>0</td>\n",
       "      <td>Lowfat 2% Milkfat Cottage Cheese</td>\n",
       "      <td>...</td>\n",
       "      <td>both</td>\n",
       "      <td>High range</td>\n",
       "      <td>Busiest days</td>\n",
       "      <td>Average orders</td>\n",
       "      <td>16</td>\n",
       "      <td>Regular customer</td>\n",
       "      <td>114.426619</td>\n",
       "      <td>High spender</td>\n",
       "      <td>20.0</td>\n",
       "      <td>Regular customer</td>\n",
       "    </tr>\n",
       "    <tr>\n",
       "      <th>...</th>\n",
       "      <td>...</td>\n",
       "      <td>...</td>\n",
       "      <td>...</td>\n",
       "      <td>...</td>\n",
       "      <td>...</td>\n",
       "      <td>...</td>\n",
       "      <td>...</td>\n",
       "      <td>...</td>\n",
       "      <td>...</td>\n",
       "      <td>...</td>\n",
       "      <td>...</td>\n",
       "      <td>...</td>\n",
       "      <td>...</td>\n",
       "      <td>...</td>\n",
       "      <td>...</td>\n",
       "      <td>...</td>\n",
       "      <td>...</td>\n",
       "      <td>...</td>\n",
       "      <td>...</td>\n",
       "      <td>...</td>\n",
       "      <td>...</td>\n",
       "    </tr>\n",
       "    <tr>\n",
       "      <th>29166209</th>\n",
       "      <td>2249946</td>\n",
       "      <td>204099</td>\n",
       "      <td>29</td>\n",
       "      <td>0</td>\n",
       "      <td>8</td>\n",
       "      <td>4.0</td>\n",
       "      <td>33664</td>\n",
       "      <td>1</td>\n",
       "      <td>0</td>\n",
       "      <td>2 % Reduced Fat  Milk</td>\n",
       "      <td>...</td>\n",
       "      <td>both</td>\n",
       "      <td>High range</td>\n",
       "      <td>Busiest days</td>\n",
       "      <td>Average orders</td>\n",
       "      <td>39</td>\n",
       "      <td>Regular customer</td>\n",
       "      <td>1106.743956</td>\n",
       "      <td>High spender</td>\n",
       "      <td>4.0</td>\n",
       "      <td>Frequent customer</td>\n",
       "    </tr>\n",
       "    <tr>\n",
       "      <th>29166210</th>\n",
       "      <td>2363282</td>\n",
       "      <td>204099</td>\n",
       "      <td>31</td>\n",
       "      <td>0</td>\n",
       "      <td>9</td>\n",
       "      <td>2.0</td>\n",
       "      <td>33664</td>\n",
       "      <td>1</td>\n",
       "      <td>1</td>\n",
       "      <td>2 % Reduced Fat  Milk</td>\n",
       "      <td>...</td>\n",
       "      <td>both</td>\n",
       "      <td>High range</td>\n",
       "      <td>Busiest days</td>\n",
       "      <td>Average orders</td>\n",
       "      <td>39</td>\n",
       "      <td>Regular customer</td>\n",
       "      <td>1106.743956</td>\n",
       "      <td>High spender</td>\n",
       "      <td>4.0</td>\n",
       "      <td>Frequent customer</td>\n",
       "    </tr>\n",
       "    <tr>\n",
       "      <th>29166211</th>\n",
       "      <td>3181945</td>\n",
       "      <td>204395</td>\n",
       "      <td>13</td>\n",
       "      <td>3</td>\n",
       "      <td>15</td>\n",
       "      <td>8.0</td>\n",
       "      <td>33664</td>\n",
       "      <td>25</td>\n",
       "      <td>0</td>\n",
       "      <td>2 % Reduced Fat  Milk</td>\n",
       "      <td>...</td>\n",
       "      <td>both</td>\n",
       "      <td>High range</td>\n",
       "      <td>Regularly busy day</td>\n",
       "      <td>Most orders</td>\n",
       "      <td>15</td>\n",
       "      <td>Regular customer</td>\n",
       "      <td>451.153540</td>\n",
       "      <td>High spender</td>\n",
       "      <td>4.0</td>\n",
       "      <td>Frequent customer</td>\n",
       "    </tr>\n",
       "    <tr>\n",
       "      <th>29166212</th>\n",
       "      <td>2486215</td>\n",
       "      <td>205227</td>\n",
       "      <td>7</td>\n",
       "      <td>3</td>\n",
       "      <td>20</td>\n",
       "      <td>4.0</td>\n",
       "      <td>33664</td>\n",
       "      <td>8</td>\n",
       "      <td>0</td>\n",
       "      <td>2 % Reduced Fat  Milk</td>\n",
       "      <td>...</td>\n",
       "      <td>both</td>\n",
       "      <td>High range</td>\n",
       "      <td>Regularly busy day</td>\n",
       "      <td>Average orders</td>\n",
       "      <td>12</td>\n",
       "      <td>Regular customer</td>\n",
       "      <td>1178.381871</td>\n",
       "      <td>High spender</td>\n",
       "      <td>7.0</td>\n",
       "      <td>Frequent customer</td>\n",
       "    </tr>\n",
       "    <tr>\n",
       "      <th>29166213</th>\n",
       "      <td>2232716</td>\n",
       "      <td>205227</td>\n",
       "      <td>10</td>\n",
       "      <td>0</td>\n",
       "      <td>11</td>\n",
       "      <td>4.0</td>\n",
       "      <td>33664</td>\n",
       "      <td>23</td>\n",
       "      <td>1</td>\n",
       "      <td>2 % Reduced Fat  Milk</td>\n",
       "      <td>...</td>\n",
       "      <td>both</td>\n",
       "      <td>High range</td>\n",
       "      <td>Busiest days</td>\n",
       "      <td>Most orders</td>\n",
       "      <td>12</td>\n",
       "      <td>Regular customer</td>\n",
       "      <td>1178.381871</td>\n",
       "      <td>High spender</td>\n",
       "      <td>7.0</td>\n",
       "      <td>Frequent customer</td>\n",
       "    </tr>\n",
       "  </tbody>\n",
       "</table></div>"
      ],
      "text/plain": [
       "          order_id  user_id  order_number  orders_day_of_week  \\\n",
       "10030345    912404       17            12                   2   \n",
       "10030346    603376       17            22                   6   \n",
       "10030347   3264360      135             2                   2   \n",
       "10030348    892534      135             3                   0   \n",
       "10030349    229704      342             8                   1   \n",
       "...            ...      ...           ...                 ...   \n",
       "29166209   2249946   204099            29                   0   \n",
       "29166210   2363282   204099            31                   0   \n",
       "29166211   3181945   204395            13                   3   \n",
       "29166212   2486215   205227             7                   3   \n",
       "29166213   2232716   205227            10                   0   \n",
       "\n",
       "          order_hour_of_day  days_since_prior_order  product_id  \\\n",
       "10030345                 14                     5.0       21553   \n",
       "10030346                 16                     4.0       21553   \n",
       "10030347                 21                    13.0       21553   \n",
       "10030348                  8                    12.0       21553   \n",
       "10030349                 19                    30.0       21553   \n",
       "...                     ...                     ...         ...   \n",
       "29166209                  8                     4.0       33664   \n",
       "29166210                  9                     2.0       33664   \n",
       "29166211                 15                     8.0       33664   \n",
       "29166212                 20                     4.0       33664   \n",
       "29166213                 11                     4.0       33664   \n",
       "\n",
       "          add_to_cart_order  reordered                      product_name  ...  \\\n",
       "10030345                  5          0  Lowfat 2% Milkfat Cottage Cheese  ...   \n",
       "10030346                  3          1  Lowfat 2% Milkfat Cottage Cheese  ...   \n",
       "10030347                  6          0  Lowfat 2% Milkfat Cottage Cheese  ...   \n",
       "10030348                  3          1  Lowfat 2% Milkfat Cottage Cheese  ...   \n",
       "10030349                  9          0  Lowfat 2% Milkfat Cottage Cheese  ...   \n",
       "...                     ...        ...                               ...  ...   \n",
       "29166209                  1          0             2 % Reduced Fat  Milk  ...   \n",
       "29166210                  1          1             2 % Reduced Fat  Milk  ...   \n",
       "29166211                 25          0             2 % Reduced Fat  Milk  ...   \n",
       "29166212                  8          0             2 % Reduced Fat  Milk  ...   \n",
       "29166213                 23          1             2 % Reduced Fat  Milk  ...   \n",
       "\n",
       "          _merge  price_range_loc         busiest_day busiest_period_of_day  \\\n",
       "10030345    both       High range  Regularly busy day           Most orders   \n",
       "10030346    both       High range  Regularly busy day        Average orders   \n",
       "10030347    both       High range  Regularly busy day        Average orders   \n",
       "10030348    both       High range        Busiest days        Average orders   \n",
       "10030349    both       High range        Busiest days        Average orders   \n",
       "...          ...              ...                 ...                   ...   \n",
       "29166209    both       High range        Busiest days        Average orders   \n",
       "29166210    both       High range        Busiest days        Average orders   \n",
       "29166211    both       High range  Regularly busy day           Most orders   \n",
       "29166212    both       High range  Regularly busy day        Average orders   \n",
       "29166213    both       High range        Busiest days           Most orders   \n",
       "\n",
       "         max_order      loyalty_flag    price_avg  spend_category  \\\n",
       "10030345        40  Regular customer   108.648299    High spender   \n",
       "10030346        40  Regular customer   108.648299    High spender   \n",
       "10030347         4      New customer  1154.792308    High spender   \n",
       "10030348         4      New customer  1154.792308    High spender   \n",
       "10030349        16  Regular customer   114.426619    High spender   \n",
       "...            ...               ...          ...             ...   \n",
       "29166209        39  Regular customer  1106.743956    High spender   \n",
       "29166210        39  Regular customer  1106.743956    High spender   \n",
       "29166211        15  Regular customer   451.153540    High spender   \n",
       "29166212        12  Regular customer  1178.381871    High spender   \n",
       "29166213        12  Regular customer  1178.381871    High spender   \n",
       "\n",
       "         days_since_last_order_mdn  customer_regularity  \n",
       "10030345                       5.0    Frequent customer  \n",
       "10030346                       5.0    Frequent customer  \n",
       "10030347                      11.5     Regular customer  \n",
       "10030348                      11.5     Regular customer  \n",
       "10030349                      20.0     Regular customer  \n",
       "...                            ...                  ...  \n",
       "29166209                       4.0    Frequent customer  \n",
       "29166210                       4.0    Frequent customer  \n",
       "29166211                       4.0    Frequent customer  \n",
       "29166212                       7.0    Frequent customer  \n",
       "29166213                       7.0    Frequent customer  \n",
       "\n",
       "[5127 rows x 23 columns]"
      ]
     },
     "execution_count": 16,
     "metadata": {},
     "output_type": "execute_result"
    }
   ],
   "source": [
    "df.loc[df['prices']>100]"
   ]
  },
  {
   "cell_type": "markdown",
   "id": "e80d2164",
   "metadata": {},
   "source": [
    "### Turn the values greater than 100 into NaN bc there is no certain way to change them"
   ]
  },
  {
   "cell_type": "code",
   "execution_count": 17,
   "id": "e266bad2",
   "metadata": {},
   "outputs": [],
   "source": [
    "df.loc[df['prices']>100,'prices']=np.nan"
   ]
  },
  {
   "cell_type": "code",
   "execution_count": 18,
   "id": "62bb55d2",
   "metadata": {},
   "outputs": [
    {
     "data": {
      "text/plain": [
       "25.0"
      ]
     },
     "execution_count": 18,
     "metadata": {},
     "output_type": "execute_result"
    }
   ],
   "source": [
    "df['prices'].max()"
   ]
  },
  {
   "cell_type": "code",
   "execution_count": 19,
   "id": "a4fff2c9",
   "metadata": {},
   "outputs": [
    {
     "data": {
      "text/plain": [
       "<AxesSubplot:ylabel='Frequency'>"
      ]
     },
     "execution_count": 19,
     "metadata": {},
     "output_type": "execute_result"
    },
    {
     "data": {
      "image/png": "[encoded data removed]",
      "text/plain": [
       "<Figure size 432x288 with 1 Axes>"
      ]
     },
     "metadata": {
      "needs_background": "light"
     },
     "output_type": "display_data"
    }
   ],
   "source": [
    "df['prices'].plot.hist(bins=25)"
   ]
  },
  {
   "cell_type": "code",
   "execution_count": 20,
   "id": "3fbb839b",
   "metadata": {},
   "outputs": [
    {
     "data": {
      "text/plain": [
       "<AxesSubplot:ylabel='Frequency'>"
      ]
     },
     "execution_count": 20,
     "metadata": {},
     "output_type": "execute_result"
    },
    {
     "data": {
      "image/png": "[encoded data removed]",
      "text/plain": [
       "<Figure size 432x288 with 1 Axes>"
      ]
     },
     "metadata": {
      "needs_background": "light"
     },
     "output_type": "display_data"
    }
   ],
   "source": [
    "df['prices'].plot.hist(bins=70)"
   ]
  },
  {
   "cell_type": "markdown",
   "id": "fe9df5a7",
   "metadata": {},
   "source": [
    "## Creating a Bar Chart"
   ]
  },
  {
   "cell_type": "markdown",
   "id": "0149b291",
   "metadata": {},
   "source": [
    "#### Subset the dataframe for testing"
   ]
  },
  {
   "cell_type": "code",
   "execution_count": null,
   "id": "fd2e125b",
   "metadata": {},
   "outputs": [],
   "source": [
    "dfsmall = df[:2000000]"
   ]
  },
  {
   "cell_type": "markdown",
   "id": "cf879554",
   "metadata": {},
   "source": [
    "## Sampling Data"
   ]
  },
  {
   "cell_type": "markdown",
   "id": "01748fb0",
   "metadata": {},
   "source": [
    "### Create the list with the random numbers"
   ]
  },
  {
   "cell_type": "code",
   "execution_count": 21,
   "id": "526d2393",
   "metadata": {},
   "outputs": [],
   "source": [
    "np.random.seed(4)\n",
    "dev = np.random.rand(len(df)) <= 0.7"
   ]
  },
  {
   "cell_type": "markdown",
   "id": "bc3d71b6",
   "metadata": {},
   "source": [
    "### Create two df big=70% and small=30%"
   ]
  },
  {
   "cell_type": "code",
   "execution_count": 22,
   "id": "86dba99a",
   "metadata": {},
   "outputs": [],
   "source": [
    "big = df[dev]"
   ]
  },
  {
   "cell_type": "code",
   "execution_count": 23,
   "id": "471a1475",
   "metadata": {},
   "outputs": [],
   "source": [
    "small = df[~dev]"
   ]
  },
  {
   "cell_type": "markdown",
   "id": "a310d5fb",
   "metadata": {},
   "source": [
    "### Check lenghts to prove df = small + big"
   ]
  },
  {
   "cell_type": "code",
   "execution_count": 24,
   "id": "755b1daf",
   "metadata": {},
   "outputs": [
    {
     "data": {
      "text/plain": [
       "32404859"
      ]
     },
     "execution_count": 24,
     "metadata": {},
     "output_type": "execute_result"
    }
   ],
   "source": [
    "len(df)"
   ]
  },
  {
   "cell_type": "code",
   "execution_count": 25,
   "id": "fa31a480",
   "metadata": {},
   "outputs": [
    {
     "data": {
      "text/plain": [
       "9721098"
      ]
     },
     "execution_count": 25,
     "metadata": {},
     "output_type": "execute_result"
    }
   ],
   "source": [
    "len(small)"
   ]
  },
  {
   "cell_type": "code",
   "execution_count": 26,
   "id": "96b4e3f3",
   "metadata": {},
   "outputs": [
    {
     "data": {
      "text/plain": [
       "22683761"
      ]
     },
     "execution_count": 26,
     "metadata": {},
     "output_type": "execute_result"
    }
   ],
   "source": [
    "len(big)"
   ]
  },
  {
   "cell_type": "markdown",
   "id": "7ba71857",
   "metadata": {},
   "source": [
    "### Reduce the DF to only the columns necessary fot the chart"
   ]
  },
  {
   "cell_type": "code",
   "execution_count": 27,
   "id": "bbfe9107",
   "metadata": {},
   "outputs": [],
   "source": [
    "df2 = small[['orders_day_of_week','prices']]"
   ]
  },
  {
   "cell_type": "markdown",
   "id": "f13466cf",
   "metadata": {},
   "source": [
    "### Create the line chart"
   ]
  },
  {
   "cell_type": "code",
   "execution_count": 28,
   "id": "77531b56",
   "metadata": {},
   "outputs": [
    {
     "data": {
      "image/png": "[encoded data removed]",
      "text/plain": [
       "<Figure size 432x288 with 1 Axes>"
      ]
     },
     "metadata": {
      "needs_background": "light"
     },
     "output_type": "display_data"
    }
   ],
   "source": [
    "line = sns.lineplot(data=df2, x='orders_day_of_week', y='prices')"
   ]
  },
  {
   "cell_type": "code",
   "execution_count": null,
   "id": "39248de7",
   "metadata": {},
   "outputs": [],
   "source": []
  },
  {
   "cell_type": "code",
   "execution_count": null,
   "id": "1325ebd2",
   "metadata": {},
   "outputs": [],
   "source": []
  }
 ],
 "metadata": {
  "kernelspec": {
   "display_name": "Python 3",
   "language": "python",
   "name": "python3"
  },
  "language_info": {
   "codemirror_mode": {
    "name": "ipython",
    "version": 3
   },
   "file_extension": ".py",
   "mimetype": "text/x-python",
   "name": "python",
   "nbconvert_exporter": "python",
   "pygments_lexer": "ipython3",
   "version": "3.8.8"
  }
 },
 "nbformat": 4,
 "nbformat_minor": 5
}
